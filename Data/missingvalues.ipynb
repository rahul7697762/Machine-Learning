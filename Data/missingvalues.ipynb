{
 "cells": [
  {
   "cell_type": "markdown",
   "id": "e76a4fa0",
   "metadata": {},
   "source": [
    "Missing Values: In Machine Learning (ML), missing values are data entries that are not recorded (blank, NaN, NULL, etc.), and they can significantly affect model performance if not handled properly."
   ]
  },
  {
   "cell_type": "markdown",
   "id": "3616dd46",
   "metadata": {},
   "source": [
    "Common Causes of Missing Values:\n",
    "Data entry errors or omissions\n",
    "\n",
    "Corrupted files\n",
    "\n",
    "Data not applicable to some observations\n",
    "\n",
    "Sensor or equipment failure"
   ]
  },
  {
   "cell_type": "markdown",
   "id": "76a900bd",
   "metadata": {},
   "source": [
    "🧩 What are Missing Values?\n",
    "A missing value means a value that was supposed to be in the dataset but is not recorded or is invalid. For example:"
   ]
  },
  {
   "cell_type": "markdown",
   "id": "533ce770",
   "metadata": {},
   "source": [
    "| ID | Age | Gender | Salary |\n",
    "| -- | --- | ------ | ------ |\n",
    "| 1  | 25  | Male   | 50K    |\n",
    "| 2  |     | Female |        |\n",
    "| 3  | 28  |        | 45K    |\n",
    "\n",
    "Here, some values are missing in the Age, Gender, and Salary columns."
   ]
  },
  {
   "cell_type": "markdown",
   "id": "17f6f918",
   "metadata": {},
   "source": [
    "🚦 Types of Missing Data (Very Important)\n",
    "Understanding why data is missing is crucial before treating it.\n",
    "\n"
   ]
  },
  {
   "cell_type": "markdown",
   "id": "17601a3a",
   "metadata": {},
   "source": [
    "| Type        |                           | Description                     |Example                         |\n",
    "|---------------------------------------- | ------------------------------------------ |         **MCAR** (Missing Completely at Random) | The missing data is independent of both observed and unobserved data.       | A survey form lost in transit              |\n",
    "| **MAR** (Missing at Random)             | Missingness is related to observed data but not to the missing data itself. | Salary missing based on job role           |\n",
    "| **MNAR** (Missing Not at Random)        | Missingness depends on unobserved data.                                     | People with high debt not reporting income |\n"
   ]
  },
  {
   "cell_type": "markdown",
   "id": "31ab1892",
   "metadata": {},
   "source": [
    "🔑 MCAR → Safe to drop or impute\n",
    "🔑 MAR/MNAR → Require deeper treatment or modeling"
   ]
  },
  {
   "cell_type": "code",
   "execution_count": 2,
   "id": "a733e4e8",
   "metadata": {},
   "outputs": [
    {
     "name": "stdout",
     "output_type": "stream",
     "text": [
      "   survived  pclass     sex   age  sibsp  parch     fare embarked  class  \\\n",
      "0         0       3    male  22.0      1      0   7.2500        S  Third   \n",
      "1         1       1  female  38.0      1      0  71.2833        C  First   \n",
      "2         1       3  female  26.0      0      0   7.9250        S  Third   \n",
      "3         1       1  female  35.0      1      0  53.1000        S  First   \n",
      "4         0       3    male  35.0      0      0   8.0500        S  Third   \n",
      "\n",
      "     who  adult_male deck  embark_town alive  alone  \n",
      "0    man        True  NaN  Southampton    no  False  \n",
      "1  woman       False    C    Cherbourg   yes  False  \n",
      "2  woman       False  NaN  Southampton   yes   True  \n",
      "3  woman       False    C  Southampton   yes  False  \n",
      "4    man        True  NaN  Southampton    no   True  \n",
      "     survived  pclass    sex    age  sibsp  parch   fare  embarked  class  \\\n",
      "0       False   False  False  False  False  False  False     False  False   \n",
      "1       False   False  False  False  False  False  False     False  False   \n",
      "2       False   False  False  False  False  False  False     False  False   \n",
      "3       False   False  False  False  False  False  False     False  False   \n",
      "4       False   False  False  False  False  False  False     False  False   \n",
      "..        ...     ...    ...    ...    ...    ...    ...       ...    ...   \n",
      "886     False   False  False  False  False  False  False     False  False   \n",
      "887     False   False  False  False  False  False  False     False  False   \n",
      "888     False   False  False   True  False  False  False     False  False   \n",
      "889     False   False  False  False  False  False  False     False  False   \n",
      "890     False   False  False  False  False  False  False     False  False   \n",
      "\n",
      "       who  adult_male   deck  embark_town  alive  alone  \n",
      "0    False       False   True        False  False  False  \n",
      "1    False       False  False        False  False  False  \n",
      "2    False       False   True        False  False  False  \n",
      "3    False       False  False        False  False  False  \n",
      "4    False       False   True        False  False  False  \n",
      "..     ...         ...    ...          ...    ...    ...  \n",
      "886  False       False   True        False  False  False  \n",
      "887  False       False  False        False  False  False  \n",
      "888  False       False   True        False  False  False  \n",
      "889  False       False  False        False  False  False  \n",
      "890  False       False   True        False  False  False  \n",
      "\n",
      "[891 rows x 15 columns]\n",
      "survived         0\n",
      "pclass           0\n",
      "sex              0\n",
      "age            177\n",
      "sibsp            0\n",
      "parch            0\n",
      "fare             0\n",
      "embarked         2\n",
      "class            0\n",
      "who              0\n",
      "adult_male       0\n",
      "deck           688\n",
      "embark_town      2\n",
      "alive            0\n",
      "alone            0\n",
      "dtype: int64\n"
     ]
    }
   ],
   "source": [
    "import seaborn as sns\n",
    "df = sns.load_dataset('titanic')\n",
    "print(df.head())\n",
    "\n",
    "# Check for missing values\n",
    "print(df.isnull())\n",
    "print(df.isnull().sum())\n"
   ]
  },
  {
   "cell_type": "code",
   "execution_count": 3,
   "id": "70421e3f",
   "metadata": {},
   "outputs": [
    {
     "name": "stdout",
     "output_type": "stream",
     "text": [
      "survived        0.000000\n",
      "pclass          0.000000\n",
      "sex             0.000000\n",
      "age            19.865320\n",
      "sibsp           0.000000\n",
      "parch           0.000000\n",
      "fare            0.000000\n",
      "embarked        0.224467\n",
      "class           0.000000\n",
      "who             0.000000\n",
      "adult_male      0.000000\n",
      "deck           77.216611\n",
      "embark_town     0.224467\n",
      "alive           0.000000\n",
      "alone           0.000000\n",
      "dtype: float64\n"
     ]
    }
   ],
   "source": [
    "#percentage of missing values\n",
    "print(df.isnull().sum()/len(df)*100)"
   ]
  },
  {
   "cell_type": "code",
   "execution_count": 4,
   "id": "812b2f64",
   "metadata": {},
   "outputs": [
    {
     "data": {
      "text/plain": [
       "<Axes: >"
      ]
     },
     "execution_count": 4,
     "metadata": {},
     "output_type": "execute_result"
    },
    {
     "data": {
      "image/png": "[encoded data removed]",
      "text/plain": [
       "<Figure size 640x480 with 1 Axes>"
      ]
     },
     "metadata": {},
     "output_type": "display_data"
    }
   ],
   "source": [
    "#visualize missing values\n",
    "\n",
    "sns.heatmap(df.isnull(), cbar=False, cmap='viridis')"
   ]
  },
  {
   "cell_type": "code",
   "execution_count": 5,
   "id": "00f88ea3",
   "metadata": {},
   "outputs": [],
   "source": [
    "df.dropna(axis=1,inplace=True)"
   ]
  },
  {
   "cell_type": "code",
   "execution_count": null,
   "id": "46ed8695",
   "metadata": {},
   "outputs": [],
   "source": [
    "print(df)"
   ]
  }
 ],
 "metadata": {
  "kernelspec": {
   "display_name": "base",
   "language": "python",
   "name": "python3"
  },
  "language_info": {
   "codemirror_mode": {
    "name": "ipython",
    "version": 3
   },
   "file_extension": ".py",
   "mimetype": "text/x-python",
   "name": "python",
   "nbconvert_exporter": "python",
   "pygments_lexer": "ipython3",
   "version": "3.12.7"
  }
 },
 "nbformat": 4,
 "nbformat_minor": 5
}
