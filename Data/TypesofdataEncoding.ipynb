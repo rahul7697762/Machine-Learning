{
 "cells": [
  {
   "cell_type": "markdown",
   "id": "b68ded08",
   "metadata": {},
   "source": [
    "1. 🎯 Label Encoding\n",
    "Each unique category is assigned a unique integer."
   ]
  },
  {
   "cell_type": "code",
   "execution_count": 2,
   "id": "e30dbea0",
   "metadata": {},
   "outputs": [
    {
     "name": "stdout",
     "output_type": "stream",
     "text": [
      "[2 0 1 2]\n"
     ]
    }
   ],
   "source": [
    "from sklearn.preprocessing import LabelEncoder\n",
    "\n",
    "le = LabelEncoder()\n",
    "encoded = le.fit_transform(['red', 'blue', 'green', 'red'])  # → [2, 0, 1, 2]\n",
    "print(encoded)\n"
   ]
  },
  {
   "cell_type": "markdown",
   "id": "0432eca5",
   "metadata": {},
   "source": [
    "✅ Simple and memory-efficient\n",
    "❌ Implicit ordinal relationship (which may not be true)"
   ]
  },
  {
   "cell_type": "markdown",
   "id": "893553ed",
   "metadata": {},
   "source": [
    "Ordinal Encoder: It will assign the value based upon the rank and we will deine a rank for each category.\n",
    "Ordinal Encoding assigns numeric values to categorical data based on a defined rank or order."
   ]
  },
  {
   "cell_type": "code",
   "execution_count": 4,
   "id": "25b7b508",
   "metadata": {},
   "outputs": [
    {
     "name": "stdout",
     "output_type": "stream",
     "text": [
      "     Education  Encoded\n",
      "0   Bachelor's      1.0\n",
      "1          PhD      3.0\n",
      "2  High School      0.0\n",
      "3     Master's      2.0\n"
     ]
    }
   ],
   "source": [
    "from sklearn.preprocessing import OrdinalEncoder\n",
    "import pandas as pd\n",
    "\n",
    "# Sample data\n",
    "data = pd.DataFrame({'Education': ['Bachelor\\'s', 'PhD', 'High School', 'Master\\'s']})\n",
    "\n",
    "# Define order\n",
    "education_order = [['High School', 'Bachelor\\'s', 'Master\\'s', 'PhD']]\n",
    "\n",
    "# Encode\n",
    "encoder = OrdinalEncoder(categories=education_order)\n",
    "data['Encoded'] = encoder.fit_transform(data[['Education']])\n",
    "\n",
    "print(data)\n",
    "\n"
   ]
  },
  {
   "cell_type": "code",
   "execution_count": 5,
   "id": "2bc8fe51",
   "metadata": {},
   "outputs": [
    {
     "ename": "SyntaxError",
     "evalue": "invalid character '—' (U+2014) (477025698.py, line 1)",
     "output_type": "error",
     "traceback": [
      "\u001b[1;36m  Cell \u001b[1;32mIn[5], line 1\u001b[1;36m\u001b[0m\n\u001b[1;33m    Nominal vs. One-Hot Encoding — Explained Clearly\u001b[0m\n\u001b[1;37m                                 ^\u001b[0m\n\u001b[1;31mSyntaxError\u001b[0m\u001b[1;31m:\u001b[0m invalid character '—' (U+2014)\n"
     ]
    }
   ],
   "source": [
    "Nominal vs. One-Hot Encoding — Explained Clearly\n",
    "🔠 Nominal Data\n",
    "Nominal data is categorical data without any inherent order or ranking.\n",
    "\n",
    "🧾 Examples:\n",
    "\n",
    "Gender: Male, Female, Other\n",
    "\n",
    "Color: Red, Green, Blue\n",
    "\n",
    "Country: India, USA, UK\n",
    "\n",
    "Since there's no order or priority, we should not use label/ordinal encoding — instead, we use One-Hot Encoding.\n",
    "\n",
    "🔥 One-Hot Encoding\n",
    "Converts each category into a separate binary column (0 or 1).\n",
    "\n",
    "🧪 Example:\n",
    "Color\n",
    "Red\n",
    "Green\n",
    "Blue\n",
    "\n",
    "👉 After One-Hot Encoding:\n",
    "\n",
    "Color_Red\tColor_Green\tColor_Blue\n",
    "1\t               0\t0\n",
    "0\t               1\t0\n",
    "0\t               0\t1"
   ]
  },
  {
   "cell_type": "code",
   "execution_count": null,
   "id": "0fb5eaba",
   "metadata": {},
   "outputs": [
    {
     "ename": "TypeError",
     "evalue": "OneHotEncoder.__init__() got an unexpected keyword argument 'sparse'",
     "output_type": "error",
     "traceback": [
      "\u001b[1;31m---------------------------------------------------------------------------\u001b[0m",
      "\u001b[1;31mTypeError\u001b[0m                                 Traceback (most recent call last)",
      "Cell \u001b[1;32mIn[8], line 8\u001b[0m\n\u001b[0;32m      5\u001b[0m df \u001b[38;5;241m=\u001b[39m pd\u001b[38;5;241m.\u001b[39mDataFrame({\u001b[38;5;124m'\u001b[39m\u001b[38;5;124mColor\u001b[39m\u001b[38;5;124m'\u001b[39m: [\u001b[38;5;124m'\u001b[39m\u001b[38;5;124mRed\u001b[39m\u001b[38;5;124m'\u001b[39m, \u001b[38;5;124m'\u001b[39m\u001b[38;5;124mGreen\u001b[39m\u001b[38;5;124m'\u001b[39m, \u001b[38;5;124m'\u001b[39m\u001b[38;5;124mBlue\u001b[39m\u001b[38;5;124m'\u001b[39m, \u001b[38;5;124m'\u001b[39m\u001b[38;5;124mRed\u001b[39m\u001b[38;5;124m'\u001b[39m]})\n\u001b[0;32m      7\u001b[0m \u001b[38;5;66;03m# One-hot encoding\u001b[39;00m\n\u001b[1;32m----> 8\u001b[0m encoder \u001b[38;5;241m=\u001b[39m \u001b[43mOneHotEncoder\u001b[49m\u001b[43m(\u001b[49m\u001b[43msparse\u001b[49m\u001b[38;5;241;43m=\u001b[39;49m\u001b[38;5;28;43;01mFalse\u001b[39;49;00m\u001b[43m)\u001b[49m\n\u001b[0;32m      9\u001b[0m encoded \u001b[38;5;241m=\u001b[39m encoder\u001b[38;5;241m.\u001b[39mfit_transform(df[[\u001b[38;5;124m'\u001b[39m\u001b[38;5;124mColor\u001b[39m\u001b[38;5;124m'\u001b[39m]])\n\u001b[0;32m     11\u001b[0m \u001b[38;5;66;03m# Convert to DataFrame\u001b[39;00m\n",
      "\u001b[1;31mTypeError\u001b[0m: OneHotEncoder.__init__() got an unexpected keyword argument 'sparse'"
     ]
    }
   ],
   "source": [
    "import pandas as pd\n",
    "from sklearn.preprocessing import OneHotEncoder\n",
    "\n",
    "# Sample data\n",
    "df = pd.DataFrame({'Color': ['Red', 'Green', 'Blue', 'Red']})\n",
    "\n",
    "# One-hot encoding\n",
    "encoder = OneHotEncoder(sparse_output==False)\n",
    "encoded = encoder.fit_transform(df[['Color']])\n",
    "\n",
    "# Convert to DataFrame\n",
    "encoded_df = pd.DataFrame(encoded, columns=encoder.get_feature_names_out(['Color']))\n",
    "print(encoded_df)\n"
   ]
  }
 ],
 "metadata": {
  "kernelspec": {
   "display_name": "base",
   "language": "python",
   "name": "python3"
  },
  "language_info": {
   "codemirror_mode": {
    "name": "ipython",
    "version": 3
   },
   "file_extension": ".py",
   "mimetype": "text/x-python",
   "name": "python",
   "nbconvert_exporter": "python",
   "pygments_lexer": "ipython3",
   "version": "3.12.7"
  }
 },
 "nbformat": 4,
 "nbformat_minor": 5
}
